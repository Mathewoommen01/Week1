{
 "cells": [
  {
   "cell_type": "code",
   "execution_count": 1,
   "id": "3cca0c82-26fe-448d-bfb0-1ff536fc29d1",
   "metadata": {},
   "outputs": [
    {
     "name": "stdout",
     "output_type": "stream",
     "text": [
      "MCQ Score: 3/4\n"
     ]
    }
   ],
   "source": [
    "import pandas as pd\n",
    "\n",
    "def grade_mcq(student_answers, correct_answers):\n",
    "    score = sum(1 for sa, ca in zip(student_answers, correct_answers) if sa == ca)\n",
    "    return score\n",
    "\n",
    "# Example Usage\n",
    "student_responses = ['A', 'B', 'D', 'C']\n",
    "correct_answers = ['A', 'C', 'D', 'C']\n",
    "score = grade_mcq(student_responses, correct_answers)\n",
    "print(f\"MCQ Score: {score}/{len(correct_answers)}\")\n"
   ]
  },
  {
   "cell_type": "code",
   "execution_count": 2,
   "id": "bf9276a1-b294-4801-b67c-75974fd9a3e6",
   "metadata": {},
   "outputs": [
    {
     "name": "stdout",
     "output_type": "stream",
     "text": [
      "Subjective Answer Score: 86.74%\n"
     ]
    }
   ],
   "source": [
    "from sklearn.feature_extraction.text import TfidfVectorizer\n",
    "from sklearn.metrics.pairwise import cosine_similarity\n",
    "\n",
    "def grade_subjective_answer(student_answer, reference_answer):\n",
    "    vectorizer = TfidfVectorizer()\n",
    "    vectors = vectorizer.fit_transform([student_answer, reference_answer])\n",
    "    similarity = cosine_similarity(vectors[0], vectors[1])\n",
    "    return similarity[0][0] * 100  # Percentage similarity\n",
    "\n",
    "# Example Usage\n",
    "student_ans = \"The capital of France is Paris.\"\n",
    "reference_ans = \"Paris is the capital city of France.\"\n",
    "score = grade_subjective_answer(student_ans, reference_ans)\n",
    "print(f\"Subjective Answer Score: {score:.2f}%\")\n"
   ]
  },
  {
   "cell_type": "code",
   "execution_count": 3,
   "id": "310fe83e-4d7d-4375-b9b0-dceb5ec2e729",
   "metadata": {},
   "outputs": [
    {
     "name": "stdout",
     "output_type": "stream",
     "text": [
      "{'Test Case 1': ('1\\n2\\n', '3', '', False), 'Test Case 2': ('5\\n7\\n', '12', '', False)}\n"
     ]
    }
   ],
   "source": [
    "import subprocess\n",
    "\n",
    "def grade_coding_assignment(code_file, test_cases):\n",
    "    results = {}\n",
    "    for i, (input_data, expected_output) in enumerate(test_cases):\n",
    "        try:\n",
    "            process = subprocess.run(['python', code_file], input=input_data, text=True, capture_output=True)\n",
    "            actual_output = process.stdout.strip()\n",
    "            is_correct = actual_output == expected_output\n",
    "            results[f\"Test Case {i+1}\"] = (input_data, expected_output, actual_output, is_correct)\n",
    "        except Exception as e:\n",
    "            results[f\"Test Case {i+1}\"] = (input_data, expected_output, str(e), False)\n",
    "    return results\n",
    "\n",
    "# Example usage\n",
    "test_cases = [(\"1\\n2\\n\", \"3\"), (\"5\\n7\\n\", \"12\")]\n",
    "results = grade_coding_assignment('student_code.py', test_cases)\n",
    "print(results)"
   ]
  },
  {
   "cell_type": "code",
   "execution_count": null,
   "id": "e180540b-05d7-4357-b11f-4b54e10e1aa6",
   "metadata": {},
   "outputs": [],
   "source": []
  }
 ],
 "metadata": {
  "kernelspec": {
   "display_name": "Python [conda env:base] *",
   "language": "python",
   "name": "conda-base-py"
  },
  "language_info": {
   "codemirror_mode": {
    "name": "ipython",
    "version": 3
   },
   "file_extension": ".py",
   "mimetype": "text/x-python",
   "name": "python",
   "nbconvert_exporter": "python",
   "pygments_lexer": "ipython3",
   "version": "3.12.7"
  }
 },
 "nbformat": 4,
 "nbformat_minor": 5
}
