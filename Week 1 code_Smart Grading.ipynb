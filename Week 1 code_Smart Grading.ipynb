{
 "cells": [
  {
   "cell_type": "code",
   "execution_count": 11,
   "id": "3cca0c82-26fe-448d-bfb0-1ff536fc29d1",
   "metadata": {},
   "outputs": [
    {
     "name": "stdout",
     "output_type": "stream",
     "text": [
      "MCQ Score: 3/4\n"
     ]
    }
   ],
   "source": [
    "import pandas as pd\n",
    "\n",
    "def grade_mcq(student_answers, correct_answers):\n",
    "    score = sum(1 for sa, ca in zip(student_answers, correct_answers) if sa == ca)\n",
    "    return score\n",
    "\n",
    "# Example Usage\n",
    "student_responses = ['A', 'B', 'D', 'C']\n",
    "correct_answers = ['A', 'C', 'D', 'C']\n",
    "score = grade_mcq(student_responses, correct_answers)\n",
    "print(f\"MCQ Score: {score}/{len(correct_answers)}\")\n"
   ]
  },
  {
   "cell_type": "code",
   "execution_count": 13,
   "id": "bf9276a1-b294-4801-b67c-75974fd9a3e6",
   "metadata": {},
   "outputs": [
    {
     "name": "stdout",
     "output_type": "stream",
     "text": [
      "Subjective Answer Score: 86.74%\n"
     ]
    }
   ],
   "source": [
    "from sklearn.feature_extraction.text import TfidfVectorizer\n",
    "from sklearn.metrics.pairwise import cosine_similarity\n",
    "\n",
    "def grade_subjective_answer(student_answer, reference_answer):\n",
    "    vectorizer = TfidfVectorizer()\n",
    "    vectors = vectorizer.fit_transform([student_answer, reference_answer])\n",
    "    similarity = cosine_similarity(vectors[0], vectors[1])\n",
    "    return similarity[0][0] * 100  # Percentage similarity\n",
    "\n",
    "# Example Usage\n",
    "student_ans = \"The capital of France is Paris.\"\n",
    "reference_ans = \"Paris is the capital city of France.\"\n",
    "score = grade_subjective_answer(student_ans, reference_ans)\n",
    "print(f\"Subjective Answer Score: {score:.2f}%\")\n"
   ]
  },
  {
   "cell_type": "code",
   "execution_count": null,
   "id": "310fe83e-4d7d-4375-b9b0-dceb5ec2e729",
   "metadata": {},
   "outputs": [],
   "source": []
  }
 ],
 "metadata": {
  "kernelspec": {
   "display_name": "Python [conda env:base] *",
   "language": "python",
   "name": "conda-base-py"
  },
  "language_info": {
   "codemirror_mode": {
    "name": "ipython",
    "version": 3
   },
   "file_extension": ".py",
   "mimetype": "text/x-python",
   "name": "python",
   "nbconvert_exporter": "python",
   "pygments_lexer": "ipython3",
   "version": "3.12.7"
  }
 },
 "nbformat": 4,
 "nbformat_minor": 5
}
